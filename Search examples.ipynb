{
 "cells": [
  {
   "cell_type": "markdown",
   "id": "723d3d01",
   "metadata": {},
   "source": [
    "# Dunder methods"
   ]
  },
  {
   "cell_type": "code",
   "execution_count": 47,
   "id": "2872d031",
   "metadata": {},
   "outputs": [
    {
     "data": {
      "text/plain": [
       "['__add__',\n",
       " '__class__',\n",
       " '__contains__',\n",
       " '__delattr__',\n",
       " '__dir__',\n",
       " '__doc__',\n",
       " '__eq__',\n",
       " '__format__',\n",
       " '__ge__',\n",
       " '__getattribute__',\n",
       " '__getitem__',\n",
       " '__getnewargs__',\n",
       " '__gt__',\n",
       " '__hash__',\n",
       " '__init__',\n",
       " '__init_subclass__',\n",
       " '__iter__',\n",
       " '__le__',\n",
       " '__len__',\n",
       " '__lt__',\n",
       " '__mod__',\n",
       " '__mul__',\n",
       " '__ne__',\n",
       " '__new__',\n",
       " '__reduce__',\n",
       " '__reduce_ex__',\n",
       " '__repr__',\n",
       " '__rmod__',\n",
       " '__rmul__',\n",
       " '__setattr__',\n",
       " '__sizeof__',\n",
       " '__str__',\n",
       " '__subclasshook__',\n",
       " 'capitalize',\n",
       " 'casefold',\n",
       " 'center',\n",
       " 'count',\n",
       " 'encode',\n",
       " 'endswith',\n",
       " 'expandtabs',\n",
       " 'find',\n",
       " 'format',\n",
       " 'format_map',\n",
       " 'index',\n",
       " 'isalnum',\n",
       " 'isalpha',\n",
       " 'isascii',\n",
       " 'isdecimal',\n",
       " 'isdigit',\n",
       " 'isidentifier',\n",
       " 'islower',\n",
       " 'isnumeric',\n",
       " 'isprintable',\n",
       " 'isspace',\n",
       " 'istitle',\n",
       " 'isupper',\n",
       " 'join',\n",
       " 'ljust',\n",
       " 'lower',\n",
       " 'lstrip',\n",
       " 'maketrans',\n",
       " 'partition',\n",
       " 'removeprefix',\n",
       " 'removesuffix',\n",
       " 'replace',\n",
       " 'rfind',\n",
       " 'rindex',\n",
       " 'rjust',\n",
       " 'rpartition',\n",
       " 'rsplit',\n",
       " 'rstrip',\n",
       " 'split',\n",
       " 'splitlines',\n",
       " 'startswith',\n",
       " 'strip',\n",
       " 'swapcase',\n",
       " 'title',\n",
       " 'translate',\n",
       " 'upper',\n",
       " 'zfill']"
      ]
     },
     "execution_count": 47,
     "metadata": {},
     "output_type": "execute_result"
    }
   ],
   "source": [
    "dir(str)"
   ]
  },
  {
   "cell_type": "code",
   "execution_count": 48,
   "id": "b5e7492a",
   "metadata": {},
   "outputs": [],
   "source": [
    "x='abdelwahab'"
   ]
  },
  {
   "cell_type": "code",
   "execution_count": 49,
   "id": "d7ad7d46",
   "metadata": {},
   "outputs": [],
   "source": [
    "c=' abdelsalam'"
   ]
  },
  {
   "cell_type": "code",
   "execution_count": 50,
   "id": "91c67879",
   "metadata": {},
   "outputs": [
    {
     "data": {
      "text/plain": [
       "'abdelwahab abdelsalam'"
      ]
     },
     "execution_count": 50,
     "metadata": {},
     "output_type": "execute_result"
    }
   ],
   "source": [
    "x+c"
   ]
  },
  {
   "cell_type": "code",
   "execution_count": 51,
   "id": "571e0c30",
   "metadata": {},
   "outputs": [
    {
     "data": {
      "text/plain": [
       "'abdelwahab abdelsalam'"
      ]
     },
     "execution_count": 51,
     "metadata": {},
     "output_type": "execute_result"
    }
   ],
   "source": [
    "x.__add__(c)"
   ]
  },
  {
   "cell_type": "code",
   "execution_count": 52,
   "id": "333cdea4",
   "metadata": {},
   "outputs": [
    {
     "data": {
      "text/plain": [
       "'abdelwahab'"
      ]
     },
     "execution_count": 52,
     "metadata": {},
     "output_type": "execute_result"
    }
   ],
   "source": [
    "x"
   ]
  },
  {
   "cell_type": "code",
   "execution_count": 53,
   "id": "b2d34413",
   "metadata": {},
   "outputs": [
    {
     "data": {
      "text/plain": [
       "59"
      ]
     },
     "execution_count": 53,
     "metadata": {},
     "output_type": "execute_result"
    }
   ],
   "source": [
    "x.__sizeof__()"
   ]
  },
  {
   "cell_type": "code",
   "execution_count": 54,
   "id": "47e052bd",
   "metadata": {},
   "outputs": [
    {
     "data": {
      "text/plain": [
       "10"
      ]
     },
     "execution_count": 54,
     "metadata": {},
     "output_type": "execute_result"
    }
   ],
   "source": [
    "len(x)"
   ]
  },
  {
   "cell_type": "code",
   "execution_count": 55,
   "id": "e7269451",
   "metadata": {},
   "outputs": [
    {
     "data": {
      "text/plain": [
       "10"
      ]
     },
     "execution_count": 55,
     "metadata": {},
     "output_type": "execute_result"
    }
   ],
   "source": [
    "x.__len__()"
   ]
  },
  {
   "cell_type": "code",
   "execution_count": 74,
   "id": "9193866c",
   "metadata": {},
   "outputs": [],
   "source": [
    "y=-10"
   ]
  },
  {
   "cell_type": "code",
   "execution_count": 75,
   "id": "60664fc7",
   "metadata": {},
   "outputs": [
    {
     "data": {
      "text/plain": [
       "-10"
      ]
     },
     "execution_count": 75,
     "metadata": {},
     "output_type": "execute_result"
    }
   ],
   "source": [
    "y"
   ]
  },
  {
   "cell_type": "code",
   "execution_count": 76,
   "id": "5fdc2c40",
   "metadata": {},
   "outputs": [
    {
     "data": {
      "text/plain": [
       "-10"
      ]
     },
     "execution_count": 76,
     "metadata": {},
     "output_type": "execute_result"
    }
   ],
   "source": [
    "y.__index__()"
   ]
  },
  {
   "cell_type": "code",
   "execution_count": 77,
   "id": "04b88118",
   "metadata": {},
   "outputs": [
    {
     "data": {
      "text/plain": [
       "10"
      ]
     },
     "execution_count": 77,
     "metadata": {},
     "output_type": "execute_result"
    }
   ],
   "source": [
    "y.__abs__()"
   ]
  },
  {
   "cell_type": "code",
   "execution_count": 78,
   "id": "168972bd",
   "metadata": {},
   "outputs": [
    {
     "data": {
      "text/plain": [
       "-10"
      ]
     },
     "execution_count": 78,
     "metadata": {},
     "output_type": "execute_result"
    }
   ],
   "source": [
    "y"
   ]
  },
  {
   "cell_type": "code",
   "execution_count": 60,
   "id": "035d2684",
   "metadata": {},
   "outputs": [],
   "source": [
    "a= True"
   ]
  },
  {
   "cell_type": "code",
   "execution_count": 61,
   "id": "116e0bc8",
   "metadata": {},
   "outputs": [],
   "source": [
    "b= False"
   ]
  },
  {
   "cell_type": "code",
   "execution_count": 62,
   "id": "ad176d83",
   "metadata": {},
   "outputs": [
    {
     "data": {
      "text/plain": [
       "False"
      ]
     },
     "execution_count": 62,
     "metadata": {},
     "output_type": "execute_result"
    }
   ],
   "source": [
    "a and b"
   ]
  },
  {
   "cell_type": "code",
   "execution_count": 63,
   "id": "bcea52c0",
   "metadata": {},
   "outputs": [
    {
     "data": {
      "text/plain": [
       "False"
      ]
     },
     "execution_count": 63,
     "metadata": {},
     "output_type": "execute_result"
    }
   ],
   "source": [
    "a.__and__(b)"
   ]
  },
  {
   "cell_type": "code",
   "execution_count": 64,
   "id": "82d77517",
   "metadata": {},
   "outputs": [
    {
     "data": {
      "text/plain": [
       "True"
      ]
     },
     "execution_count": 64,
     "metadata": {},
     "output_type": "execute_result"
    }
   ],
   "source": [
    "a.__or__(b)"
   ]
  },
  {
   "cell_type": "code",
   "execution_count": null,
   "id": "3e1189b0",
   "metadata": {},
   "outputs": [],
   "source": []
  },
  {
   "cell_type": "markdown",
   "id": "dd61a9be",
   "metadata": {},
   "source": [
    "# \\*args and **kwargs"
   ]
  },
  {
   "cell_type": "code",
   "execution_count": 65,
   "id": "fbc55fdd",
   "metadata": {},
   "outputs": [
    {
     "name": "stdout",
     "output_type": "stream",
     "text": [
      "x is 10 y is 12 \n"
     ]
    }
   ],
   "source": [
    "def func(x,y):\n",
    "    print('x is {} y is {} '.format(x,y))\n",
    "\n",
    "a=10\n",
    "b=12\n",
    "func(a,b)"
   ]
  },
  {
   "cell_type": "code",
   "execution_count": 66,
   "id": "60e954ee",
   "metadata": {},
   "outputs": [
    {
     "data": {
      "text/plain": [
       "5"
      ]
     },
     "execution_count": 66,
     "metadata": {},
     "output_type": "execute_result"
    }
   ],
   "source": [
    "#function to see how many 8 in the given arguments\n",
    "def count8(*integ):\n",
    "    \n",
    "    #counter for how many number 8 in the list\n",
    "    y=0\n",
    "    \n",
    "    #for to see every index in the list\n",
    "    for x in integ:\n",
    "        \n",
    "        #condtion to see if the value is 8 or not\n",
    "        if x-8==0:\n",
    "            \n",
    "            #adding 1 to the counter if the value was 8\n",
    "            y=y+1\n",
    "    #returning the counter after the loop went through every index\n",
    "    return y\n",
    "\n",
    "#calling the function\n",
    "count8(5,4,8,2,8,4,1,3,1,8,8,8)"
   ]
  },
  {
   "cell_type": "code",
   "execution_count": 67,
   "id": "9abbc2b9",
   "metadata": {},
   "outputs": [
    {
     "name": "stdout",
     "output_type": "stream",
     "text": [
      "name  abdelwahab\n",
      "Lname  abdelsalam\n",
      "phone  01006581926\n",
      "Email  abdelwaba.abdelsalam00@gmail.com\n"
     ]
    }
   ],
   "source": [
    "# function to print the dictinary with its keys and values\n",
    "def printnamed(**info):\n",
    "    \n",
    "    # Iterating over the Python kwargs dictionary\n",
    "    for key,value in info.items():\n",
    "        print('{}  {}'.format(key,value))\n",
    "    \n",
    "\n",
    "printnamed(name='abdelwahab', Lname='abdelsalam', phone='01006581926', Email='abdelwaba.abdelsalam00@gmail.com')"
   ]
  },
  {
   "cell_type": "code",
   "execution_count": null,
   "id": "de7a1be5",
   "metadata": {},
   "outputs": [],
   "source": []
  },
  {
   "cell_type": "markdown",
   "id": "6c3a1294",
   "metadata": {},
   "source": [
    "# Encapsulation"
   ]
  },
  {
   "cell_type": "code",
   "execution_count": 19,
   "id": "6dd9f7cc",
   "metadata": {},
   "outputs": [
    {
     "ename": "AttributeError",
     "evalue": "'human' object has no attribute 'age'",
     "output_type": "error",
     "traceback": [
      "\u001b[1;31m---------------------------------------------------------------------------\u001b[0m",
      "\u001b[1;31mAttributeError\u001b[0m                            Traceback (most recent call last)",
      "Input \u001b[1;32mIn [19]\u001b[0m, in \u001b[0;36m<cell line: 11>\u001b[1;34m()\u001b[0m\n\u001b[0;32m      7\u001b[0m         \u001b[38;5;28mself\u001b[39m\u001b[38;5;241m.\u001b[39m__age\u001b[38;5;241m=\u001b[39m\u001b[38;5;241m25\u001b[39m\n\u001b[0;32m     10\u001b[0m abdelwahab\u001b[38;5;241m=\u001b[39m human()\n\u001b[1;32m---> 11\u001b[0m \u001b[43mabdelwahab\u001b[49m\u001b[38;5;241;43m.\u001b[39;49m\u001b[43mage\u001b[49m\n",
      "\u001b[1;31mAttributeError\u001b[0m: 'human' object has no attribute 'age'"
     ]
    }
   ],
   "source": [
    "class human:\n",
    "    __height= 0\n",
    "    __age= 0\n",
    "\n",
    "    def __int__(self):\n",
    "        self.__height=170\n",
    "        self.__age=25\n",
    "        \n",
    "        \n",
    "abdelwahab= human()\n",
    "abdelwahab.age"
   ]
  },
  {
   "cell_type": "code",
   "execution_count": 21,
   "id": "44158c73",
   "metadata": {},
   "outputs": [],
   "source": [
    "class human_values():\n",
    "    _hieght=170\n",
    "    _age=25"
   ]
  },
  {
   "cell_type": "code",
   "execution_count": 37,
   "id": "ce772cf1",
   "metadata": {},
   "outputs": [],
   "source": [
    "class human(human_values):\n",
    "\n",
    "    def __init__(self):\n",
    "        print(self._hieght)\n",
    "        print(self._age)\n",
    "        \n"
   ]
  },
  {
   "cell_type": "code",
   "execution_count": 40,
   "id": "56be9466",
   "metadata": {},
   "outputs": [
    {
     "name": "stdout",
     "output_type": "stream",
     "text": [
      "170\n",
      "25\n"
     ]
    }
   ],
   "source": [
    "abdelwahab= human()\n"
   ]
  },
  {
   "cell_type": "code",
   "execution_count": null,
   "id": "b3c94c66",
   "metadata": {},
   "outputs": [],
   "source": []
  },
  {
   "cell_type": "code",
   "execution_count": null,
   "id": "b05906c5",
   "metadata": {},
   "outputs": [],
   "source": []
  },
  {
   "cell_type": "code",
   "execution_count": null,
   "id": "0d268d6f",
   "metadata": {},
   "outputs": [],
   "source": []
  }
 ],
 "metadata": {
  "kernelspec": {
   "display_name": "Python 3 (ipykernel)",
   "language": "python",
   "name": "python3"
  },
  "language_info": {
   "codemirror_mode": {
    "name": "ipython",
    "version": 3
   },
   "file_extension": ".py",
   "mimetype": "text/x-python",
   "name": "python",
   "nbconvert_exporter": "python",
   "pygments_lexer": "ipython3",
   "version": "3.9.12"
  }
 },
 "nbformat": 4,
 "nbformat_minor": 5
}
