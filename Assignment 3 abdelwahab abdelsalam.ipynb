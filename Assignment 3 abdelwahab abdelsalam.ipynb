{
 "cells": [
  {
   "cell_type": "markdown",
   "metadata": {},
   "source": [
    "# Assignment 3"
   ]
  },
  {
   "cell_type": "markdown",
   "metadata": {},
   "source": [
    "### Write a function to count the number 4 in a given list."
   ]
  },
  {
   "cell_type": "code",
   "execution_count": null,
   "metadata": {},
   "outputs": [],
   "source": [
    "#function to count how many number 4 in a given list\n",
    "def count(lis):\n",
    "    \n",
    "    #counter for how many number 4 in the list\n",
    "    y=0\n",
    "    \n",
    "    #for to see every index in the list\n",
    "    for x in lis:\n",
    "        \n",
    "        #condtion to see if the value is 4 or not\n",
    "        if x-4==0:\n",
    "            \n",
    "            #adding 1 to the counter if the value was 4\n",
    "            y=y+1\n",
    "    #returning the counter after the loop went through every index\n",
    "    return y\n",
    "\n",
    "#the list\n",
    "x=[4,8,4,5,4,6,4,8,4]\n",
    "\n",
    "#calling the function\n",
    "count(x)"
   ]
  },
  {
   "cell_type": "markdown",
   "metadata": {},
   "source": [
    "### write a  function to check whether a number is divisible by another number."
   ]
  },
  {
   "cell_type": "code",
   "execution_count": null,
   "metadata": {},
   "outputs": [],
   "source": [
    "#funtion to check whether a number is divisible by another number\n",
    "def check_div(num1,num2):\n",
    "    \n",
    "    #condtion to see if it is divisable by using % and seeing if the results is zero\n",
    "    if num1%num2==0:\n",
    "        \n",
    "        #printing divisible\n",
    "        print('divisible')\n",
    "    else:\n",
    "        #printing not divisible\n",
    "        print('not divisible')\n",
    "\n",
    "#calling the function\n",
    "check_div(21,10)"
   ]
  },
  {
   "cell_type": "markdown",
   "metadata": {},
   "source": [
    "### write a function to find the maximum and minimum numbers from a sequence of numbers."
   ]
  },
  {
   "cell_type": "code",
   "execution_count": null,
   "metadata": {},
   "outputs": [],
   "source": [
    "#function to see the minimum number and maximum number in a given list\n",
    "def max_min(lis):\n",
    "    \n",
    "    \n",
    "    #for to see every index in the list\n",
    "    for x in lis:\n",
    "        \n",
    "        #if it's the first index\n",
    "        if x==lis[0]:\n",
    "            \n",
    "            #assign maxnum and the minnum values intial values\n",
    "            maxnum=x\n",
    "            minnum=x\n",
    "            \n",
    "        #condtion to see if x is more than the maximum\n",
    "        elif x>maxnum:\n",
    "            \n",
    "            #assigning maxnum a new number\n",
    "            maxnum=x\n",
    "        \n",
    "        #condtion to see if x is less than the minnum\n",
    "        elif x<minnum:\n",
    "            #assigning minnum a new number \n",
    "            minnum=x\n",
    "    #printing the numbers\n",
    "    print('max num is ',maxnum)\n",
    "    print('min num is ',minnum)\n",
    "\n",
    "#list\n",
    "x=[55,81,1,8,22,84,-156,15221]\n",
    "\n",
    "#calling the function\n",
    "max_min(x)"
   ]
  },
  {
   "cell_type": "markdown",
   "metadata": {},
   "source": [
    "### Write a Python function that takes two lists and returns True if they have at least one common member."
   ]
  },
  {
   "cell_type": "code",
   "execution_count": null,
   "metadata": {},
   "outputs": [],
   "source": [
    "#function to check if two lists have any number in common\n",
    "def chec_common(lis1,lis2):\n",
    "    \n",
    "    #for loop for the first list\n",
    "    for x in lis1:\n",
    "        \n",
    "        #for loop for the second list\n",
    "        for y in lis2:\n",
    "            \n",
    "            #condtion to see if x equal to y\n",
    "            if x==y:\n",
    "                \n",
    "                #returning true\n",
    "                return True\n",
    "    \n",
    "    \n",
    "#the two list\n",
    "x=[111,9,8,7,9]\n",
    "y=[5,2,11,33,55]\n",
    "\n",
    "#calling the function\n",
    "chec_common(x,y)"
   ]
  },
  {
   "cell_type": "markdown",
   "metadata": {},
   "source": [
    "### Write a Python function to calculate the factorial of a number (a non-negative integer). The function accepts the number from the user"
   ]
  },
  {
   "cell_type": "code",
   "execution_count": 8,
   "metadata": {},
   "outputs": [
    {
     "data": {
      "text/plain": [
       "24"
      ]
     },
     "execution_count": 8,
     "metadata": {},
     "output_type": "execute_result"
    }
   ],
   "source": [
    "#function to get the factorial of a given number\n",
    "def fact(x):\n",
    "    \n",
    "    #if the number is 1 \n",
    "    if x==1:\n",
    "        \n",
    "        #return 1\n",
    "        return 1\n",
    "    \n",
    "    #if the number is less or equal to zero\n",
    "    elif x <=0:\n",
    "        \n",
    "        #print cannot factrial that number\n",
    "        print('cannot factorial that number')\n",
    "        \n",
    "    \n",
    "    else:\n",
    "        \n",
    "        #calling the function recursivly and goes on and on until returns 1 then return the final value\n",
    "        return x*fact(x-1)\n",
    "    \n",
    "#calling the function\n",
    "fact(4)"
   ]
  },
  {
   "cell_type": "markdown",
   "metadata": {},
   "source": [
    "### Write a Python function to check whether a number is in a given range.\n",
    "\n",
    "### The range is from 3 to 11\n"
   ]
  },
  {
   "cell_type": "code",
   "execution_count": 15,
   "metadata": {},
   "outputs": [
    {
     "data": {
      "text/plain": [
       "True"
      ]
     },
     "execution_count": 15,
     "metadata": {},
     "output_type": "execute_result"
    }
   ],
   "source": [
    "#function to see if the number is within the range 3 to 11\n",
    "def check_range(num):\n",
    "    \n",
    "    #for to loop to go from 3 to 12\n",
    "    for x in range(3,12):\n",
    "        \n",
    "        #check if the number is equal to the x\n",
    "        if num == x:\n",
    "            \n",
    "            #returning true\n",
    "            return True\n",
    "        \n",
    "\n",
    "x=6\n",
    "\n",
    "#calling the function\n",
    "check_range(x)"
   ]
  },
  {
   "cell_type": "code",
   "execution_count": 12,
   "metadata": {},
   "outputs": [],
   "source": [
    "#anothor solution\n",
    "\n",
    "#function to see if the number is within the range 3 to 11\n",
    "def check_range(num):\n",
    "    \n",
    "    #condtion to see if the number is within the range\n",
    "    if 3<=num<=11:\n",
    "        \n",
    "        #returning true\n",
    "        return True\n",
    "        \n",
    "\n",
    "x=12\n",
    "\n",
    "#calling the function\n",
    "check_range(x)"
   ]
  },
  {
   "cell_type": "markdown",
   "metadata": {},
   "source": [
    "### Write a  program to create the multiplication table (from 1 to 10) of a number."
   ]
  },
  {
   "cell_type": "code",
   "execution_count": 16,
   "metadata": {},
   "outputs": [
    {
     "name": "stdout",
     "output_type": "stream",
     "text": [
      "1*5=5\n",
      "2*5=10\n",
      "3*5=15\n",
      "4*5=20\n",
      "5*5=25\n",
      "6*5=30\n",
      "7*5=35\n",
      "8*5=40\n",
      "9*5=45\n",
      "10*5=50\n"
     ]
    }
   ],
   "source": [
    "#function to genrate the multiplication table of a givin number\n",
    "def multable(num):\n",
    "    \n",
    "    #for loop to go from 1 to 11\n",
    "    for x in range(1,11):\n",
    "        \n",
    "        #printing the iteration from the loop multiply by the number equal the result of the operation\n",
    "        print('{}*{}={}'.format(x,num,num*x))\n",
    "        \n",
    "        \n",
    "#calling the function\n",
    "multable(5)"
   ]
  },
  {
   "cell_type": "markdown",
   "metadata": {},
   "source": [
    "#### LESSER OF TWO EVENS: Write a function that returns the lesser of two given numbers *if* both numbers are even, but returns the greater if one or both numbers are odd\n",
    "    lesser_of_two_evens(2,4) --> 2\n",
    "    lesser_of_two_evens(2,5) --> 5"
   ]
  },
  {
   "cell_type": "code",
   "execution_count": 6,
   "metadata": {},
   "outputs": [
    {
     "data": {
      "text/plain": [
       "10"
      ]
     },
     "execution_count": 6,
     "metadata": {},
     "output_type": "execute_result"
    }
   ],
   "source": [
    "#function to return the lesser of 2 evens\n",
    "def check_2even(num1,num2):\n",
    "    \n",
    "    #condtion to see if both of the numbers are even\n",
    "    if num1%2==0 and num2%2==0:\n",
    "        \n",
    "        #condtion to see which is bigger and returning the smaller one\n",
    "        if num1>num2:\n",
    "            return num2\n",
    "        else:\n",
    "            return num1\n",
    "    #if both of them weren't even\n",
    "    else:\n",
    "        \n",
    "        #condtion to see which is bigger and returning the bigger value\n",
    "        if num1>num2:\n",
    "            return num1\n",
    "        else:\n",
    "            return num2\n",
    "        \n",
    "#calling the function\n",
    "check_2even(22,10)"
   ]
  }
 ],
 "metadata": {
  "kernelspec": {
   "display_name": "Python 3 (ipykernel)",
   "language": "python",
   "name": "python3"
  },
  "language_info": {
   "codemirror_mode": {
    "name": "ipython",
    "version": 3
   },
   "file_extension": ".py",
   "mimetype": "text/x-python",
   "name": "python",
   "nbconvert_exporter": "python",
   "pygments_lexer": "ipython3",
   "version": "3.9.12"
  }
 },
 "nbformat": 4,
 "nbformat_minor": 2
}
