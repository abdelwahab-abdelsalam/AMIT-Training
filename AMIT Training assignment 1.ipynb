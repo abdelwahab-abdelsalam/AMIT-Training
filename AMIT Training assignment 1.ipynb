{
 "cells": [
  {
   "cell_type": "markdown",
   "id": "c4887380",
   "metadata": {},
   "source": [
    "### calculator"
   ]
  },
  {
   "cell_type": "code",
   "execution_count": 3,
   "id": "231f18dd",
   "metadata": {},
   "outputs": [
    {
     "name": "stdout",
     "output_type": "stream",
     "text": [
      "enter the two numbers with , inbetwen 3,3\n",
      "6\n"
     ]
    }
   ],
   "source": [
    "# taking the 2 inputs and sperating them by split\n",
    "x,y=input('enter the two numbers with , inbetwen ').split(',')\n",
    "\n",
    "# casting the two inputs into integers\n",
    "x=int(x)\n",
    "\n",
    "y=int(y)\n",
    "\n",
    "# doing the operation\n",
    "c=x+y\n",
    "\n",
    "# prininting the results\n",
    "print(c)"
   ]
  },
  {
   "cell_type": "code",
   "execution_count": null,
   "id": "9172b237",
   "metadata": {},
   "outputs": [],
   "source": []
  }
 ],
 "metadata": {
  "kernelspec": {
   "display_name": "Python 3 (ipykernel)",
   "language": "python",
   "name": "python3"
  },
  "language_info": {
   "codemirror_mode": {
    "name": "ipython",
    "version": 3
   },
   "file_extension": ".py",
   "mimetype": "text/x-python",
   "name": "python",
   "nbconvert_exporter": "python",
   "pygments_lexer": "ipython3",
   "version": "3.9.12"
  }
 },
 "nbformat": 4,
 "nbformat_minor": 5
}
